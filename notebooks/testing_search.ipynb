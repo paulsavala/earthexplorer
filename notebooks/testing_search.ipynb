{
 "cells": [
  {
   "cell_type": "code",
   "execution_count": null,
   "metadata": {},
   "outputs": [
    {
     "ename": "",
     "evalue": "",
     "output_type": "error",
     "traceback": [
      "\u001b[1;31mRunning cells with 'Python 3.12.6' requires the ipykernel package.\n",
      "\u001b[1;31mRun the following command to install 'ipykernel' into the Python environment. \n",
      "\u001b[1;31mCommand: '/opt/homebrew/bin/python3 -m pip install ipykernel -U --user --force-reinstall'"
     ]
    }
   ],
   "source": [
    "import earthaccess\n",
    "import ipywidgets as widgets\n",
    "from ipywidgets import GridspecLayout\n",
    "import pandas as pd\n",
    "from datetime import datetime, timezone\n",
    "import plotly.express as px\n",
    "import itertools\n",
    "\n",
    "from itables import show\n",
    "\n",
    "from typing import Any, Dict, List, Optional, Type, Union"
   ]
  },
  {
   "cell_type": "code",
   "execution_count": null,
   "metadata": {},
   "outputs": [],
   "source": [
    "# f@#$QFac890fq#@\n",
    "earthaccess.login(persist=True)"
   ]
  },
  {
   "cell_type": "markdown",
   "metadata": {},
   "source": [
    "# TEMPO search - Datasets\n",
    "\n",
    "The flow for working with this data seems to be as follows:\n",
    "1. Use `search_datasets` to find relevant collections\n",
    "2. Once you have one or more relevant collections, filter the granules within that collection (there may be thousands in each returned collection, you don't want all of them).\n",
    "3. Use `search_data` with the `concept_id`s from the granules you want to get the download links.\n",
    "\n",
    "The tricky part here is step 2. The user needs to select the collection they want, then you need to allow them some filtering. It mightmake sense to use [tabs, accordion or stack](https://ipywidgets.readthedocs.io/en/latest/examples/Widget%20List.html#accordion) in `ipywidgets` to better organize this (probably accordion or stack.) \n",
    "\n",
    "Display a table of collections, and have each row have a \"select\" button. Clicking that opens up a new section to filter the data. This will then populate that section with basic info on the data (number of granules, total size, etc.), as well as allow for filtering. Filtering will show the new reduced number of granules. \n",
    "\n",
    "In addition, they should be able to see basic data on each returned granule (size, time frame, spatial extent, etc.). Then a button allows them to click it and get the data link and/or download it directly.\n",
    "\n"
   ]
  },
  {
   "cell_type": "markdown",
   "metadata": {},
   "source": [
    "## Quick test search and results"
   ]
  },
  {
   "cell_type": "markdown",
   "metadata": {},
   "source": [
    "Get a bunch of results for a single project."
   ]
  },
  {
   "cell_type": "code",
   "execution_count": null,
   "metadata": {},
   "outputs": [],
   "source": [
    "tempo_datasets = earthaccess.search_datasets(\n",
    "    project=\"TEMPO\"\n",
    ")"
   ]
  },
  {
   "cell_type": "markdown",
   "metadata": {},
   "source": [
    "Summarize those results by showing basic info and a link to the results page."
   ]
  },
  {
   "cell_type": "code",
   "execution_count": null,
   "metadata": {},
   "outputs": [],
   "source": [
    "tempo_datasets.summary(show_links=True)"
   ]
  },
  {
   "cell_type": "markdown",
   "metadata": {},
   "source": [
    "Grab a random dataset (search result) and show all the granules associated with it."
   ]
  },
  {
   "cell_type": "code",
   "execution_count": null,
   "metadata": {},
   "outputs": [],
   "source": [
    "granule_data = earthaccess.search_data(\n",
    "    concept_id=tempo_datasets[0].concept_id()\n",
    ")"
   ]
  },
  {
   "cell_type": "code",
   "execution_count": null,
   "metadata": {},
   "outputs": [],
   "source": [
    "granule_data.summary()"
   ]
  },
  {
   "cell_type": "code",
   "execution_count": 20,
   "metadata": {},
   "outputs": [],
   "source": [
    "# Sanity check, this will be a unit test later\n",
    "assert len(granule_data.filter_temporal_extent()) == len(granule_data)"
   ]
  },
  {
   "cell_type": "markdown",
   "metadata": {},
   "source": [
    "Show the spatial extent for one of those granules."
   ]
  },
  {
   "cell_type": "code",
   "execution_count": null,
   "metadata": {},
   "outputs": [],
   "source": [
    "granule_data[0].plot_spatial_extent()"
   ]
  },
  {
   "cell_type": "markdown",
   "metadata": {},
   "source": [
    "## Temporal filtering\n",
    "\n",
    "It looks like a lot of the granules scan the same locations, but presumably at different dates and times. So below I work on allowing filtering based on the date and time."
   ]
  },
  {
   "cell_type": "markdown",
   "metadata": {},
   "source": [
    "Show the different start and end dates (all combined into one) from all the returned data granules."
   ]
  },
  {
   "cell_type": "code",
   "execution_count": null,
   "metadata": {},
   "outputs": [],
   "source": [
    "granule_data.plot_temporal_extent()"
   ]
  },
  {
   "cell_type": "markdown",
   "metadata": {},
   "source": [
    "Create a picker that allows you to choose an (optional) start and end date for the temporal extents, and filter to only granules within that range."
   ]
  },
  {
   "cell_type": "code",
   "execution_count": null,
   "metadata": {},
   "outputs": [],
   "source": [
    "# Create start and finish datetime pickers\n",
    "start_datetime_picker = widgets.DatetimePicker(description='Start Datetime (UTC):',\n",
    "                                               max=datetime.now(timezone.utc))\n",
    "\n",
    "finish_datetime_picker = widgets.DatetimePicker(description='Finish Datetime (UTC):',\n",
    "                                               max=datetime.now(timezone.utc))\n",
    "\n",
    "# Create an output widget to display the result\n",
    "output = widgets.Output()\n",
    "\n",
    "# Function to update finish datetime picker minimum value based on start datetime picker value\n",
    "def update_finish_min(change):\n",
    "    finish_datetime_picker.min = start_datetime_picker.value\n",
    "\n",
    "# Attach event handler to start datetime picker value change\n",
    "start_datetime_picker.observe(update_finish_min, 'value')\n",
    "\n",
    "# Function to handle button click event\n",
    "def handle_button_click(button):\n",
    "    with output:\n",
    "        output.clear_output()\n",
    "        \n",
    "        filtered_granule_data = granule_data.filter_temporal_extent(start_datetime_picker.value, finish_datetime_picker.value)\n",
    "\n",
    "        print(f\"Number of granules within the specified temporal range: {len(filtered_granule_data)}\")\n",
    "\n",
    "\n",
    "# Create a button widget\n",
    "button = widgets.Button(description='Filter dates')\n",
    "\n",
    "# Attach event handler to button click\n",
    "button.on_click(handle_button_click)\n",
    "\n",
    "# Create a VBox to hold the widgets\n",
    "app = widgets.VBox([start_datetime_picker, finish_datetime_picker, button, output])\n",
    "\n",
    "# Display the app\n",
    "app"
   ]
  },
  {
   "cell_type": "markdown",
   "metadata": {},
   "source": [
    "## User spatial filtering"
   ]
  },
  {
   "cell_type": "code",
   "execution_count": null,
   "metadata": {},
   "outputs": [],
   "source": [
    "from ipyleaflet import Map, DrawControl\n",
    "\n",
    "# Create a map centered on North America\n",
    "m = Map(center=[42, -90], zoom=3)\n",
    "\n",
    "# Initialize the DrawControl\n",
    "draw_control = DrawControl(\n",
    "    rectangle={\"shapeOptions\": {\"color\": \"#6bc2e5\", \"fillOpacity\": 0.5}},\n",
    "    polygon={},\n",
    "    polyline={},\n",
    "    circlemarker={},\n",
    "    marker={},\n",
    "    edit=False\n",
    ")\n",
    "\n",
    "# Function to handle the drawing event and extract coordinates\n",
    "def handle_draw(target, action, geo_json):\n",
    "    # Extract the geometry coordinates\n",
    "    geometry_type = geo_json['geometry']['type']\n",
    "    coordinates = geo_json['geometry']['coordinates']\n",
    "\n",
    "    if geometry_type == 'Polygon':\n",
    "        formatted_coords = coordinates[0]\n",
    "        formatted_coords = [(coord[0], coord[1]) for coord in formatted_coords]\n",
    "        filtered_granules = granule_data.filter_spatial_extent(formatted_coords)\n",
    "        print(f\"Filtered granules count: {len(filtered_granules)}\")\n",
    "\n",
    "# Attach the handler to the draw control\n",
    "draw_control.on_draw(handle_draw)\n",
    "\n",
    "# Add the draw control to the map\n",
    "m.add_control(draw_control)\n",
    "\n",
    "# Display the map\n",
    "m\n"
   ]
  },
  {
   "cell_type": "markdown",
   "metadata": {},
   "source": [
    "## Search box\n",
    "- Project name (initially the only option available)\n",
    "- Date range (via a date picker)\n",
    "- Location range (via an interactive map, ideally)\n",
    "- Instrument (autofills after selecting a project and extracting the instruments)"
   ]
  },
  {
   "cell_type": "code",
   "execution_count": 25,
   "metadata": {},
   "outputs": [],
   "source": [
    "class SearchWidget:\n",
    "    def __init__(self):\n",
    "        # Display the whole description, don't truncate it\n",
    "        self.style = {'description_width': 'initial'}\n",
    "\n",
    "        self.params = dict()\n",
    "        self.results = None\n",
    "        self.widgets = dict()\n",
    "\n",
    "        self.widgets['project'] = self._project_widget()\n",
    "        self.widgets['start_date'] = self._start_date_widget()\n",
    "        self.widgets['end_date'] = self._end_date_widget()\n",
    "        self.widgets['instrument'] = self._instrument_widget()\n",
    "        self.widgets['output'] = widgets.Output()\n",
    "\n",
    "        self._grid = GridspecLayout(5, 2)\n",
    "        self._grid[0, 0] = self.widgets['project']\n",
    "        self._grid[3, 0] = self._search_button()\n",
    "        self._grid[3, 1] = self._reset_button()\n",
    "        self._grid[4, :] = self._output_widget()\n",
    "\n",
    "    def __repr__(self) -> str:\n",
    "        return \"Run in a Jupyter Notebook to see the widget.\"\n",
    "    \n",
    "    def _ipython_display_(self):\n",
    "        # Display the widget\n",
    "        display(self._grid)\n",
    "\n",
    "    def _output_widget(self) -> widgets.Output:\n",
    "        output_widget = widgets.Output()\n",
    "        return output_widget\n",
    "\n",
    "    def _project_widget(self) -> widgets.Text:\n",
    "        project_widget = widgets.Text(\n",
    "            description=\"Project/Campaign:\",\n",
    "            style=self.style,\n",
    "            disabled=self.results is not None,\n",
    "        )\n",
    "        return project_widget\n",
    "    \n",
    "    def _start_date_widget(self) -> widgets.DatePicker:\n",
    "        start_date_widget = widgets.DatePicker(\n",
    "            description=\"Start Date:\",\n",
    "            style=self.style,\n",
    "        )\n",
    "        return start_date_widget\n",
    "    \n",
    "    def _end_date_widget(self) -> widgets.DatePicker:\n",
    "        end_date_widget = widgets.DatePicker(\n",
    "            description=\"Start Date:\",\n",
    "            style=self.style,\n",
    "        )\n",
    "        return end_date_widget\n",
    "    \n",
    "    def _instrument_widget(self) -> widgets.Dropdown:\n",
    "        instrument_widget = widgets.Dropdown(\n",
    "            options=[],\n",
    "            description=\"Instrument:\",\n",
    "            style=self.style,\n",
    "        )\n",
    "        return instrument_widget\n",
    "    \n",
    "    def _search_button(self) -> widgets.Button:\n",
    "        search_widget = widgets.Button(\n",
    "            description=\"Search\",\n",
    "            button_style=\"primary\",\n",
    "        )\n",
    "        search_widget.on_click(self.on_search)\n",
    "        return search_widget\n",
    "    \n",
    "    def _reset_button(self) -> widgets.Button:\n",
    "        reset_widget = widgets.Button(\n",
    "            description=\"Reset\",\n",
    "            button_style=\"warning\",\n",
    "        )\n",
    "        reset_widget.on_click(self.on_reset)\n",
    "        return reset_widget\n",
    "\n",
    "    def on_search(self, button):\n",
    "        # Assign parameter values\n",
    "        self.params['project'] = self.widgets['project'].value\n",
    "        self.params['start_date'] = self.widgets['start_date'].value\n",
    "        self.params['end_date'] = self.widgets['end_date'].value\n",
    "        self.params['instrument'] = self.widgets['instrument'].value\n",
    "\n",
    "        print(f\"Project: {self.widgets['project'].value}\")\n",
    "        print(f\"Start date: {self.widgets['start_date'].value}\")\n",
    "        print(f\"End date: {self.widgets['end_date'].value}\")\n",
    "        print(f\"Instrument: {self.widgets['instrument'].value}\")\n",
    "\n",
    "        # Execute the search\n",
    "        if self.results is None:\n",
    "            self.results = earthaccess.search_datasets(\n",
    "                project=self.params['project']\n",
    "            )\n",
    "        else:\n",
    "            self.results = earthaccess.search_datasets(\n",
    "                project=self.params['project'],\n",
    "                start_date=self.params['start_date'],\n",
    "                end_date=self.params['end_date'],\n",
    "                instrument=self.params['instrument']\n",
    "            )\n",
    "\n",
    "        if len(self.results) > 0:\n",
    "            self.display_results(self.results)\n",
    "\n",
    "    def on_reset(self, button):\n",
    "        # Reset widgets to initial values\n",
    "        self.widgets['project'].value = self.widgets['project'].placeholder\n",
    "        # self.widgets['start_date'].value = self.widgets['start_date'].placeholder\n",
    "        # self.widgets['end_date'].value = self.widgets['end_date'].placeholder\n",
    "        # self.widgets['instrument'].value = self.widgets['instrument'].placeholder\n",
    "\n",
    "        # Reset parameters to empty\n",
    "        self.params['project'] = None\n",
    "        self.params['start_date'] = None\n",
    "        self.params['end_date'] = None\n",
    "        self.params['instrument'] = None\n",
    "        \n",
    "        # Re-enable the project widget and set focus to it\n",
    "        self.widgets['project'].disabled = False\n",
    "        self.widgets['project'].focus()\n",
    "\n",
    "    def display_results(self, results):\n",
    "        with self.widgets['output']:\n",
    "            display(results)"
   ]
  },
  {
   "cell_type": "code",
   "execution_count": null,
   "metadata": {},
   "outputs": [],
   "source": [
    "grid = SearchWidget()\n",
    "\n",
    "grid"
   ]
  }
 ],
 "metadata": {
  "kernelspec": {
   "display_name": "Python 3 (ipykernel)",
   "language": "python",
   "name": "python3"
  },
  "language_info": {
   "codemirror_mode": {
    "name": "ipython",
    "version": 3
   },
   "file_extension": ".py",
   "mimetype": "text/x-python",
   "name": "python",
   "nbconvert_exporter": "python",
   "pygments_lexer": "ipython3",
   "version": "3.12.6"
  }
 },
 "nbformat": 4,
 "nbformat_minor": 2
}
